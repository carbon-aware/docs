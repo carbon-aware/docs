{
  "nbformat": 4,
  "nbformat_minor": 0,
  "metadata": {
    "colab": {
      "provenance": [],
      "authorship_tag": "ABX9TyMu2aX6oQefWbXE2r+4dmpe",
      "include_colab_link": true
    },
    "kernelspec": {
      "name": "python3",
      "display_name": "Python 3"
    },
    "language_info": {
      "name": "python"
    }
  },
  "cells": [
    {
      "cell_type": "markdown",
      "metadata": {
        "id": "view-in-github",
        "colab_type": "text"
      },
      "source": [
        "<a href=\"https://colab.research.google.com/github/carbon-aware/docs/blob/main/examples/prefect_carbonaware_delay.ipynb\" target=\"_parent\"><img src=\"https://colab.research.google.com/assets/colab-badge.svg\" alt=\"Open In Colab\"/></a>"
      ]
    },
    {
      "cell_type": "markdown",
      "source": [
        "# 🧪 CarbonAware + Prefect Colab Demo\n",
        "\n",
        "Automatically delay your Prefect flow until the carbon intensity is lowest, using CarbonAware\n"
      ],
      "metadata": {
        "id": "LKR3PGSwiwVL"
      }
    },
    {
      "cell_type": "code",
      "source": [
        "!pip install prefect carbonaware-prefect"
      ],
      "metadata": {
        "id": "gaPRbE2uiu02"
      },
      "execution_count": null,
      "outputs": []
    },
    {
      "cell_type": "code",
      "execution_count": 1,
      "metadata": {
        "colab": {
          "base_uri": "https://localhost:8080/",
          "height": 170
        },
        "id": "rE94Rl8visIq",
        "outputId": "85c85a8c-99e1-4650-bbfc-659388143ddb"
      },
      "outputs": [
        {
          "output_type": "display_data",
          "data": {
            "text/plain": [
              "18:33:41.886 | \u001b[36mINFO\u001b[0m    | prefect - Starting temporary server on \u001b[94mhttp://127.0.0.1:8522\u001b[0m\n",
              "See \u001b[94mhttps://docs.prefect.io/3.0/manage/self-host#self-host-a-prefect-server\u001b[0m for more information on running a dedicated Prefect server.\n"
            ],
            "text/html": [
              "<pre style=\"white-space:pre;overflow-x:auto;line-height:normal;font-family:Menlo,'DejaVu Sans Mono',consolas,'Courier New',monospace\">18:33:41.886 | <span style=\"color: #008080; text-decoration-color: #008080\">INFO</span>    | prefect - Starting temporary server on <span style=\"color: #0000ff; text-decoration-color: #0000ff\">http://127.0.0.1:8522</span>\n",
              "See <span style=\"color: #0000ff; text-decoration-color: #0000ff\">https://docs.prefect.io/3.0/manage/self-host#self-host-a-prefect-server</span> for more information on running a dedicated Prefect server.\n",
              "</pre>\n"
            ]
          },
          "metadata": {}
        },
        {
          "output_type": "display_data",
          "data": {
            "text/plain": [
              "18:33:47.780 | \u001b[36mINFO\u001b[0m    | Flow run\u001b[35m 'cautious-gerbil'\u001b[0m - Beginning flow run\u001b[35m 'cautious-gerbil'\u001b[0m for flow\u001b[1;35m 'carbon-aware-pipeline'\u001b[0m\n"
            ],
            "text/html": [
              "<pre style=\"white-space:pre;overflow-x:auto;line-height:normal;font-family:Menlo,'DejaVu Sans Mono',consolas,'Courier New',monospace\">18:33:47.780 | <span style=\"color: #008080; text-decoration-color: #008080\">INFO</span>    | Flow run<span style=\"color: #800080; text-decoration-color: #800080\"> 'cautious-gerbil'</span> - Beginning flow run<span style=\"color: #800080; text-decoration-color: #800080\"> 'cautious-gerbil'</span> for flow<span style=\"color: #800080; text-decoration-color: #800080; font-weight: bold\"> 'carbon-aware-pipeline'</span>\n",
              "</pre>\n"
            ]
          },
          "metadata": {}
        },
        {
          "output_type": "stream",
          "name": "stdout",
          "text": [
            "[CarbonAware] Waiting 72s for optimal time: 2025-05-19 18:35:00+00:00\n",
            "📦 Fetching data...\n"
          ]
        },
        {
          "output_type": "display_data",
          "data": {
            "text/plain": [
              "18:35:00.110 | \u001b[36mINFO\u001b[0m    | Task run 'fetch_data-076' - Finished in state \u001b[32mCompleted\u001b[0m()\n"
            ],
            "text/html": [
              "<pre style=\"white-space:pre;overflow-x:auto;line-height:normal;font-family:Menlo,'DejaVu Sans Mono',consolas,'Courier New',monospace\">18:35:00.110 | <span style=\"color: #008080; text-decoration-color: #008080\">INFO</span>    | Task run 'fetch_data-076' - Finished in state <span style=\"color: #008000; text-decoration-color: #008000\">Completed</span>()\n",
              "</pre>\n"
            ]
          },
          "metadata": {}
        },
        {
          "output_type": "stream",
          "name": "stdout",
          "text": [
            "🤖 Training model...\n"
          ]
        },
        {
          "output_type": "display_data",
          "data": {
            "text/plain": [
              "18:35:00.280 | \u001b[36mINFO\u001b[0m    | Task run 'train_model-a97' - Finished in state \u001b[32mCompleted\u001b[0m()\n"
            ],
            "text/html": [
              "<pre style=\"white-space:pre;overflow-x:auto;line-height:normal;font-family:Menlo,'DejaVu Sans Mono',consolas,'Courier New',monospace\">18:35:00.280 | <span style=\"color: #008080; text-decoration-color: #008080\">INFO</span>    | Task run 'train_model-a97' - Finished in state <span style=\"color: #008000; text-decoration-color: #008000\">Completed</span>()\n",
              "</pre>\n"
            ]
          },
          "metadata": {}
        },
        {
          "output_type": "display_data",
          "data": {
            "text/plain": [
              "18:35:00.478 | \u001b[36mINFO\u001b[0m    | Flow run\u001b[35m 'cautious-gerbil'\u001b[0m - Finished in state \u001b[32mCompleted\u001b[0m()\n"
            ],
            "text/html": [
              "<pre style=\"white-space:pre;overflow-x:auto;line-height:normal;font-family:Menlo,'DejaVu Sans Mono',consolas,'Courier New',monospace\">18:35:00.478 | <span style=\"color: #008080; text-decoration-color: #008080\">INFO</span>    | Flow run<span style=\"color: #800080; text-decoration-color: #800080\"> 'cautious-gerbil'</span> - Finished in state <span style=\"color: #008000; text-decoration-color: #008000\">Completed</span>()\n",
              "</pre>\n"
            ]
          },
          "metadata": {}
        }
      ],
      "source": [
        "from datetime import timedelta\n",
        "from prefect import flow, task\n",
        "from carbonaware_prefect.decorator import carbonaware_delay_decorator\n",
        "\n",
        "# 👇 Carbon-aware decorator: delays task execution until CO2 intensity is lowest\n",
        "@carbonaware_delay_decorator(\n",
        "    window=timedelta(minutes=5),       # Time window to look for optimal time\n",
        "    duration=timedelta(minutes=30),    # Duration of your flow\n",
        "    provider=\"gcp\",\n",
        "    region=\"us-central1\"\n",
        ")\n",
        "@task\n",
        "def fetch_data():\n",
        "    print(\"📦 Fetching data...\")\n",
        "\n",
        "@task\n",
        "def train_model():\n",
        "    print(\"🤖 Training model...\")\n",
        "\n",
        "@flow\n",
        "def carbon_aware_pipeline():\n",
        "    fetch_data()\n",
        "    train_model()\n",
        "\n",
        "carbon_aware_pipeline()\n"
      ]
    }
  ]
}